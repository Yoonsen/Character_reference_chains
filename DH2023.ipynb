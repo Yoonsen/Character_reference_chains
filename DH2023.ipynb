{
 "cells": [
  {
   "cell_type": "code",
   "execution_count": 1,
   "id": "e866606c-d0bf-4e97-b4d3-12eea021d09b",
   "metadata": {},
   "outputs": [],
   "source": [
    "import dhlab as dh\n",
    "import pandas as pd\n",
    "import dhlab.api.dhlab_api as api\n",
    "import requests\n",
    "BASE_URL = api.BASE_URL"
   ]
  },
  {
   "cell_type": "code",
   "execution_count": 2,
   "id": "0497efc5-2993-46e1-b015-c27178c76d07",
   "metadata": {},
   "outputs": [],
   "source": [
    "corpus = dh.Corpus(doctype=\"digibok\", ddk=\"8*\", limit = 500000, lang='nob', from_year = 1950, to_year=2022)"
   ]
  },
  {
   "cell_type": "code",
   "execution_count": 3,
   "id": "516590ef-6349-4634-bdab-f5021afb37bf",
   "metadata": {},
   "outputs": [
    {
     "data": {
      "text/plain": [
       "101367"
      ]
     },
     "execution_count": 3,
     "metadata": {},
     "output_type": "execute_result"
    }
   ],
   "source": [
    "corpus.size"
   ]
  },
  {
   "cell_type": "code",
   "execution_count": 4,
   "id": "6eb7ad80-d711-46fb-8915-ea6f47e1d44a",
   "metadata": {},
   "outputs": [],
   "source": [
    "def get_document_frequencies(urns = None, cutoff= 0, words = None):\n",
    "    \"\"\"Fetch frequency counts of ``words`` in documents (``urns``).\n",
    "    Call the API :py:obj:`~dhlab.constants.BASE_URL` endpoint\n",
    "    `/frequencies`.\n",
    "    :param list urns: list of uniform resource name strings, for example:\n",
    "        ``[\"URN:NBN:no-nb_digibok_2008051404065\", \"URN:NBN:no-nb_digibok_2010092120011\"]``\n",
    "    :param int cutoff: minimum frequency of a word to be counted\n",
    "    :param list words: a list of words to be counted - if left None, whole document is returned.\n",
    "    \"\"\"\n",
    "    params = locals()\n",
    "    r = requests.post(f\"{BASE_URL}/frequencies\", json=params)\n",
    "    result = r.json()\n",
    "    # check if words are passed - return differs a bit\n",
    "    if words is None:\n",
    "        structure = dict()\n",
    "        for u in result:\n",
    "            try:\n",
    "                structure[u[0][0]] = dict([(x[1], x[2]) for x in u])\n",
    "            except IndexError:\n",
    "                pass\n",
    "        df = pd.DataFrame(structure)\n",
    "        df = df.sort_values(by=df.columns[0], ascending=False).fillna(0)\n",
    "    else:\n",
    "        df = pd.DataFrame(result)\n",
    "        df.columns = [\"urn\", \"word\", \"count\", \"urncount\"]\n",
    "        #df = pd.pivot_table(df, values=\"count\", index=\"word\", columns=\"urn\").fillna(0)\n",
    "    return df"
   ]
  },
  {
   "cell_type": "code",
   "execution_count": 5,
   "id": "1c039e16-b528-467c-ba89-563af5c0ef37",
   "metadata": {},
   "outputs": [],
   "source": [
    "def countwords(urns=None, words=None):\n",
    "    hifreq = get_document_frequencies(urns=list(urns), words= words)\n",
    "    wordcounts = pd.pivot_table(hifreq, values=\"count\", index=\"word\", columns=\"urn\").fillna(0).transpose()\n",
    "    uc = pd.pivot_table(hifreq, values=\"urncount\", index=\"word\", columns=\"urn\").fillna(0)\n",
    "    urncounts = uc.max()\n",
    "    c = pd.DataFrame()\n",
    "    for x in wordcounts:\n",
    "        c[x] = wordcounts[x]*100/urncounts\n",
    "    return c"
   ]
  },
  {
   "cell_type": "code",
   "execution_count": 6,
   "id": "19152f84-a3a5-4a21-8cf2-f616e96f2eb5",
   "metadata": {},
   "outputs": [],
   "source": [
    "wc = countwords(urns = list(corpus.corpus.urn), words = \"han hun henne ham hennes hans jeg meg du deg vi oss der dit\".split())"
   ]
  },
  {
   "cell_type": "code",
   "execution_count": 7,
   "id": "d33a73bf-1743-4131-8ff1-adc0f35b4e73",
   "metadata": {},
   "outputs": [],
   "source": [
    "wc3 = countwords(urns = list(corpus.corpus.urn), words = \"han hun henne ham hennes hans\".split())"
   ]
  },
  {
   "cell_type": "code",
   "execution_count": 8,
   "id": "0691b1b5-b93c-4e44-a1ea-703f4ef1ef90",
   "metadata": {},
   "outputs": [
    {
     "data": {
      "text/plain": [
       "count    99082.000000\n",
       "mean         2.517593\n",
       "std          1.306758\n",
       "min          0.000459\n",
       "25%          1.572796\n",
       "50%          2.448588\n",
       "75%          3.386231\n",
       "max         10.432570\n",
       "dtype: float64"
      ]
     },
     "execution_count": 8,
     "metadata": {},
     "output_type": "execute_result"
    }
   ],
   "source": [
    "wc3.sum(axis=1).describe()"
   ]
  },
  {
   "cell_type": "code",
   "execution_count": 9,
   "id": "f2908f10-415c-4c02-8b96-9ce8352105dc",
   "metadata": {},
   "outputs": [
    {
     "data": {
      "text/plain": [
       "count    100471.000000\n",
       "mean          5.033751\n",
       "std           1.779675\n",
       "min           0.000578\n",
       "25%           3.923619\n",
       "50%           5.114185\n",
       "75%           6.262884\n",
       "max          20.361991\n",
       "dtype: float64"
      ]
     },
     "execution_count": 9,
     "metadata": {},
     "output_type": "execute_result"
    }
   ],
   "source": [
    "wc.sum(axis=1).describe()"
   ]
  },
  {
   "cell_type": "code",
   "execution_count": 10,
   "id": "cf02cb84-0397-45d4-972a-f0ad6da7f87b",
   "metadata": {},
   "outputs": [],
   "source": [
    "wc = countwords(urns = list(corpus.corpus.urn), words = \"han hun jeg du vi der dit\".split())"
   ]
  },
  {
   "cell_type": "code",
   "execution_count": 11,
   "id": "6be06534-baa9-4c44-aed9-298d2ea3f10f",
   "metadata": {},
   "outputs": [
    {
     "data": {
      "text/html": [
       "<div>\n",
       "<style scoped>\n",
       "    .dataframe tbody tr th:only-of-type {\n",
       "        vertical-align: middle;\n",
       "    }\n",
       "\n",
       "    .dataframe tbody tr th {\n",
       "        vertical-align: top;\n",
       "    }\n",
       "\n",
       "    .dataframe thead th {\n",
       "        text-align: right;\n",
       "    }\n",
       "</style>\n",
       "<table border=\"1\" class=\"dataframe\">\n",
       "  <thead>\n",
       "    <tr style=\"text-align: right;\">\n",
       "      <th></th>\n",
       "      <th>der</th>\n",
       "      <th>dit</th>\n",
       "      <th>du</th>\n",
       "      <th>han</th>\n",
       "      <th>hun</th>\n",
       "      <th>jeg</th>\n",
       "      <th>vi</th>\n",
       "    </tr>\n",
       "    <tr>\n",
       "      <th>urn</th>\n",
       "      <th></th>\n",
       "      <th></th>\n",
       "      <th></th>\n",
       "      <th></th>\n",
       "      <th></th>\n",
       "      <th></th>\n",
       "      <th></th>\n",
       "    </tr>\n",
       "  </thead>\n",
       "  <tbody>\n",
       "    <tr>\n",
       "      <th>100000000</th>\n",
       "      <td>1.010054</td>\n",
       "      <td>0.000000</td>\n",
       "      <td>0.181530</td>\n",
       "      <td>0.709831</td>\n",
       "      <td>0.409607</td>\n",
       "      <td>0.004655</td>\n",
       "      <td>0.004655</td>\n",
       "    </tr>\n",
       "    <tr>\n",
       "      <th>100000127</th>\n",
       "      <td>0.077551</td>\n",
       "      <td>0.018150</td>\n",
       "      <td>0.499959</td>\n",
       "      <td>0.301955</td>\n",
       "      <td>0.252454</td>\n",
       "      <td>1.831532</td>\n",
       "      <td>0.189753</td>\n",
       "    </tr>\n",
       "    <tr>\n",
       "      <th>100000256</th>\n",
       "      <td>0.125015</td>\n",
       "      <td>0.010565</td>\n",
       "      <td>0.170796</td>\n",
       "      <td>0.727202</td>\n",
       "      <td>0.242988</td>\n",
       "      <td>0.107408</td>\n",
       "      <td>0.044020</td>\n",
       "    </tr>\n",
       "    <tr>\n",
       "      <th>100000259</th>\n",
       "      <td>0.152889</td>\n",
       "      <td>0.013651</td>\n",
       "      <td>0.136508</td>\n",
       "      <td>0.556951</td>\n",
       "      <td>0.226603</td>\n",
       "      <td>0.010921</td>\n",
       "      <td>0.065524</td>\n",
       "    </tr>\n",
       "    <tr>\n",
       "      <th>100000274</th>\n",
       "      <td>0.108368</td>\n",
       "      <td>0.009602</td>\n",
       "      <td>0.218107</td>\n",
       "      <td>0.559671</td>\n",
       "      <td>0.039781</td>\n",
       "      <td>0.238683</td>\n",
       "      <td>0.186557</td>\n",
       "    </tr>\n",
       "    <tr>\n",
       "      <th>...</th>\n",
       "      <td>...</td>\n",
       "      <td>...</td>\n",
       "      <td>...</td>\n",
       "      <td>...</td>\n",
       "      <td>...</td>\n",
       "      <td>...</td>\n",
       "      <td>...</td>\n",
       "    </tr>\n",
       "    <tr>\n",
       "      <th>100613281</th>\n",
       "      <td>0.116362</td>\n",
       "      <td>0.007338</td>\n",
       "      <td>0.648901</td>\n",
       "      <td>1.455049</td>\n",
       "      <td>1.786313</td>\n",
       "      <td>0.561892</td>\n",
       "      <td>0.128942</td>\n",
       "    </tr>\n",
       "    <tr>\n",
       "      <th>100613282</th>\n",
       "      <td>0.508614</td>\n",
       "      <td>0.011455</td>\n",
       "      <td>0.077896</td>\n",
       "      <td>1.972599</td>\n",
       "      <td>0.152355</td>\n",
       "      <td>0.121426</td>\n",
       "      <td>0.297837</td>\n",
       "    </tr>\n",
       "    <tr>\n",
       "      <th>100613284</th>\n",
       "      <td>0.212160</td>\n",
       "      <td>0.013324</td>\n",
       "      <td>0.631355</td>\n",
       "      <td>0.924483</td>\n",
       "      <td>1.981182</td>\n",
       "      <td>0.879387</td>\n",
       "      <td>0.195761</td>\n",
       "    </tr>\n",
       "    <tr>\n",
       "      <th>100613286</th>\n",
       "      <td>0.245033</td>\n",
       "      <td>0.059603</td>\n",
       "      <td>0.331126</td>\n",
       "      <td>0.483444</td>\n",
       "      <td>0.920530</td>\n",
       "      <td>0.496689</td>\n",
       "      <td>0.715232</td>\n",
       "    </tr>\n",
       "    <tr>\n",
       "      <th>100613287</th>\n",
       "      <td>0.000000</td>\n",
       "      <td>0.000000</td>\n",
       "      <td>0.087108</td>\n",
       "      <td>1.742160</td>\n",
       "      <td>0.174216</td>\n",
       "      <td>0.609756</td>\n",
       "      <td>0.087108</td>\n",
       "    </tr>\n",
       "  </tbody>\n",
       "</table>\n",
       "<p>100362 rows × 7 columns</p>\n",
       "</div>"
      ],
      "text/plain": [
       "                der       dit        du       han       hun       jeg  \\\n",
       "urn                                                                     \n",
       "100000000  1.010054  0.000000  0.181530  0.709831  0.409607  0.004655   \n",
       "100000127  0.077551  0.018150  0.499959  0.301955  0.252454  1.831532   \n",
       "100000256  0.125015  0.010565  0.170796  0.727202  0.242988  0.107408   \n",
       "100000259  0.152889  0.013651  0.136508  0.556951  0.226603  0.010921   \n",
       "100000274  0.108368  0.009602  0.218107  0.559671  0.039781  0.238683   \n",
       "...             ...       ...       ...       ...       ...       ...   \n",
       "100613281  0.116362  0.007338  0.648901  1.455049  1.786313  0.561892   \n",
       "100613282  0.508614  0.011455  0.077896  1.972599  0.152355  0.121426   \n",
       "100613284  0.212160  0.013324  0.631355  0.924483  1.981182  0.879387   \n",
       "100613286  0.245033  0.059603  0.331126  0.483444  0.920530  0.496689   \n",
       "100613287  0.000000  0.000000  0.087108  1.742160  0.174216  0.609756   \n",
       "\n",
       "                 vi  \n",
       "urn                  \n",
       "100000000  0.004655  \n",
       "100000127  0.189753  \n",
       "100000256  0.044020  \n",
       "100000259  0.065524  \n",
       "100000274  0.186557  \n",
       "...             ...  \n",
       "100613281  0.128942  \n",
       "100613282  0.297837  \n",
       "100613284  0.195761  \n",
       "100613286  0.715232  \n",
       "100613287  0.087108  \n",
       "\n",
       "[100362 rows x 7 columns]"
      ]
     },
     "execution_count": 11,
     "metadata": {},
     "output_type": "execute_result"
    }
   ],
   "source": [
    "wc"
   ]
  },
  {
   "cell_type": "code",
   "execution_count": 15,
   "id": "3f2ceaba-fe83-4a37-b484-8e31791574f5",
   "metadata": {},
   "outputs": [],
   "source": [
    "cf = corpus.frame[corpus.frame.langs=='nob']"
   ]
  },
  {
   "cell_type": "code",
   "execution_count": 27,
   "id": "620a1f23-f3bc-44e4-9d69-137621358be1",
   "metadata": {
    "tags": []
   },
   "outputs": [],
   "source": [
    "hoel = list(cf[cf.authors.str.contains('Hoel')].urn)"
   ]
  },
  {
   "cell_type": "code",
   "execution_count": 22,
   "id": "ce793a3d-a214-43b5-996f-fc61e46b8f3f",
   "metadata": {
    "tags": []
   },
   "outputs": [
    {
     "data": {
      "text/plain": [
       "['nb_core_news_lg',\n",
       " 'da_core_news_lg',\n",
       " 'nb_core_news_sm',\n",
       " 'en_core_web_lg',\n",
       " 'en_core_web_md',\n",
       " 'da_core_news_trf']"
      ]
     },
     "execution_count": 22,
     "metadata": {},
     "output_type": "execute_result"
    }
   ],
   "source": [
    "dh.Models().models"
   ]
  },
  {
   "cell_type": "code",
   "execution_count": 26,
   "id": "9b5a3790-d9de-4462-b9f1-5680c0ebfe6f",
   "metadata": {
    "tags": []
   },
   "outputs": [
    {
     "data": {
      "text/plain": [
       "100041949"
      ]
     },
     "execution_count": 26,
     "metadata": {},
     "output_type": "execute_result"
    }
   ],
   "source": [
    "hoel[1]"
   ]
  },
  {
   "cell_type": "code",
   "execution_count": 32,
   "id": "a72530ed-f320-41cb-a656-9b7b09fb75ed",
   "metadata": {
    "tags": []
   },
   "outputs": [],
   "source": [
    "hoel_ner = [dh.NER(urn=h,model = \"nb_core_news_lg\", start_page=2, to_page=500).ner for h in hoel]\n"
   ]
  },
  {
   "cell_type": "code",
   "execution_count": 34,
   "id": "e82acb52-4cd5-4878-94cb-21898dc51938",
   "metadata": {
    "tags": []
   },
   "outputs": [],
   "source": [
    "hoel_pos = [dh.POS(urn=h,model = \"nb_core_news_lg\", start_page=2, to_page=500).pos for h in hoel]\n"
   ]
  },
  {
   "cell_type": "code",
   "execution_count": 36,
   "id": "0d960f09-34cd-4f71-9b93-cd6e3b650e33",
   "metadata": {},
   "outputs": [
    {
     "data": {
      "text/html": [
       "<div>\n",
       "<style scoped>\n",
       "    .dataframe tbody tr th:only-of-type {\n",
       "        vertical-align: middle;\n",
       "    }\n",
       "\n",
       "    .dataframe tbody tr th {\n",
       "        vertical-align: top;\n",
       "    }\n",
       "\n",
       "    .dataframe thead th {\n",
       "        text-align: right;\n",
       "    }\n",
       "</style>\n",
       "<table border=\"1\" class=\"dataframe\">\n",
       "  <thead>\n",
       "    <tr style=\"text-align: right;\">\n",
       "      <th></th>\n",
       "      <th>token</th>\n",
       "      <th>lemma</th>\n",
       "      <th>pos</th>\n",
       "      <th>dep</th>\n",
       "      <th>frekv</th>\n",
       "    </tr>\n",
       "  </thead>\n",
       "  <tbody>\n",
       "    <tr>\n",
       "      <th>476</th>\n",
       "      <td>du</td>\n",
       "      <td>du</td>\n",
       "      <td>PRON</td>\n",
       "      <td>nsubj</td>\n",
       "      <td>90</td>\n",
       "    </tr>\n",
       "    <tr>\n",
       "      <th>963</th>\n",
       "      <td>og</td>\n",
       "      <td>og</td>\n",
       "      <td>CCONJ</td>\n",
       "      <td>cc</td>\n",
       "      <td>81</td>\n",
       "    </tr>\n",
       "    <tr>\n",
       "      <th>711</th>\n",
       "      <td>i</td>\n",
       "      <td>i</td>\n",
       "      <td>ADP</td>\n",
       "      <td>case</td>\n",
       "      <td>50</td>\n",
       "    </tr>\n",
       "    <tr>\n",
       "      <th>488</th>\n",
       "      <td>e</td>\n",
       "      <td>e</td>\n",
       "      <td>AUX</td>\n",
       "      <td>cop</td>\n",
       "      <td>40</td>\n",
       "    </tr>\n",
       "    <tr>\n",
       "      <th>1130</th>\n",
       "      <td>som</td>\n",
       "      <td>som</td>\n",
       "      <td>PRON</td>\n",
       "      <td>nsubj</td>\n",
       "      <td>35</td>\n",
       "    </tr>\n",
       "    <tr>\n",
       "      <th>...</th>\n",
       "      <td>...</td>\n",
       "      <td>...</td>\n",
       "      <td>...</td>\n",
       "      <td>...</td>\n",
       "      <td>...</td>\n",
       "    </tr>\n",
       "    <tr>\n",
       "      <th>524</th>\n",
       "      <td>ende</td>\n",
       "      <td>ende</td>\n",
       "      <td>NOUN</td>\n",
       "      <td>amod</td>\n",
       "      <td>1</td>\n",
       "    </tr>\n",
       "    <tr>\n",
       "      <th>520</th>\n",
       "      <td>elden</td>\n",
       "      <td>eld</td>\n",
       "      <td>NOUN</td>\n",
       "      <td>nsubj</td>\n",
       "      <td>1</td>\n",
       "    </tr>\n",
       "    <tr>\n",
       "      <th>519</th>\n",
       "      <td>einaste</td>\n",
       "      <td>einesge</td>\n",
       "      <td>ADJ</td>\n",
       "      <td>amod</td>\n",
       "      <td>1</td>\n",
       "    </tr>\n",
       "    <tr>\n",
       "      <th>517</th>\n",
       "      <td>egne</td>\n",
       "      <td>egen</td>\n",
       "      <td>DET</td>\n",
       "      <td>det</td>\n",
       "      <td>1</td>\n",
       "    </tr>\n",
       "    <tr>\n",
       "      <th>1382</th>\n",
       "      <td>•</td>\n",
       "      <td>•</td>\n",
       "      <td>NOUN</td>\n",
       "      <td>ROOT</td>\n",
       "      <td>1</td>\n",
       "    </tr>\n",
       "  </tbody>\n",
       "</table>\n",
       "<p>1383 rows × 5 columns</p>\n",
       "</div>"
      ],
      "text/plain": [
       "        token    lemma    pos    dep  frekv\n",
       "476        du       du   PRON  nsubj     90\n",
       "963        og       og  CCONJ     cc     81\n",
       "711         i        i    ADP   case     50\n",
       "488         e        e    AUX    cop     40\n",
       "1130      som      som   PRON  nsubj     35\n",
       "...       ...      ...    ...    ...    ...\n",
       "524      ende     ende   NOUN   amod      1\n",
       "520     elden      eld   NOUN  nsubj      1\n",
       "519   einaste  einesge    ADJ   amod      1\n",
       "517      egne     egen    DET    det      1\n",
       "1382        •        •   NOUN   ROOT      1\n",
       "\n",
       "[1383 rows x 5 columns]"
      ]
     },
     "execution_count": 36,
     "metadata": {},
     "output_type": "execute_result"
    }
   ],
   "source": [
    "hoel_pos[10]"
   ]
  },
  {
   "cell_type": "code",
   "execution_count": null,
   "id": "678cd2cc-4bbc-433f-989a-60ead092aaaa",
   "metadata": {},
   "outputs": [],
   "source": []
  },
  {
   "cell_type": "code",
   "execution_count": 33,
   "id": "9d67d646-fc99-4916-ad27-eb79ea822517",
   "metadata": {
    "tags": []
   },
   "outputs": [
    {
     "data": {
      "text/html": [
       "<div>\n",
       "<style scoped>\n",
       "    .dataframe tbody tr th:only-of-type {\n",
       "        vertical-align: middle;\n",
       "    }\n",
       "\n",
       "    .dataframe tbody tr th {\n",
       "        vertical-align: top;\n",
       "    }\n",
       "\n",
       "    .dataframe thead th {\n",
       "        text-align: right;\n",
       "    }\n",
       "</style>\n",
       "<table border=\"1\" class=\"dataframe\">\n",
       "  <thead>\n",
       "    <tr style=\"text-align: right;\">\n",
       "      <th></th>\n",
       "      <th>token</th>\n",
       "      <th>ner</th>\n",
       "      <th>frekv</th>\n",
       "    </tr>\n",
       "  </thead>\n",
       "  <tbody>\n",
       "    <tr>\n",
       "      <th>1310</th>\n",
       "      <td>Håvard</td>\n",
       "      <td>PER</td>\n",
       "      <td>697</td>\n",
       "    </tr>\n",
       "    <tr>\n",
       "      <th>2344</th>\n",
       "      <td>ban</td>\n",
       "      <td>PER</td>\n",
       "      <td>195</td>\n",
       "    </tr>\n",
       "    <tr>\n",
       "      <th>2169</th>\n",
       "      <td>a</td>\n",
       "      <td>PER</td>\n",
       "      <td>179</td>\n",
       "    </tr>\n",
       "    <tr>\n",
       "      <th>1538</th>\n",
       "      <td>Kjersti</td>\n",
       "      <td>PER</td>\n",
       "      <td>133</td>\n",
       "    </tr>\n",
       "    <tr>\n",
       "      <th>2959</th>\n",
       "      <td>na</td>\n",
       "      <td>ORG</td>\n",
       "      <td>89</td>\n",
       "    </tr>\n",
       "    <tr>\n",
       "      <th>...</th>\n",
       "      <td>...</td>\n",
       "      <td>...</td>\n",
       "      <td>...</td>\n",
       "    </tr>\n",
       "    <tr>\n",
       "      <th>1603</th>\n",
       "      <td>Lavar</td>\n",
       "      <td>PER</td>\n",
       "      <td>1</td>\n",
       "    </tr>\n",
       "    <tr>\n",
       "      <th>1604</th>\n",
       "      <td>Ler</td>\n",
       "      <td>GPE_LOC</td>\n",
       "      <td>1</td>\n",
       "    </tr>\n",
       "    <tr>\n",
       "      <th>1605</th>\n",
       "      <td>Ler</td>\n",
       "      <td>PER</td>\n",
       "      <td>1</td>\n",
       "    </tr>\n",
       "    <tr>\n",
       "      <th>1606</th>\n",
       "      <td>Lerg</td>\n",
       "      <td>PROD</td>\n",
       "      <td>1</td>\n",
       "    </tr>\n",
       "    <tr>\n",
       "      <th>0</th>\n",
       "      <td>02</td>\n",
       "      <td>GPE_LOC</td>\n",
       "      <td>1</td>\n",
       "    </tr>\n",
       "  </tbody>\n",
       "</table>\n",
       "<p>3636 rows × 3 columns</p>\n",
       "</div>"
      ],
      "text/plain": [
       "        token      ner  frekv\n",
       "1310   Håvard      PER    697\n",
       "2344      ban      PER    195\n",
       "2169        a      PER    179\n",
       "1538  Kjersti      PER    133\n",
       "2959       na      ORG     89\n",
       "...       ...      ...    ...\n",
       "1603    Lavar      PER      1\n",
       "1604      Ler  GPE_LOC      1\n",
       "1605      Ler      PER      1\n",
       "1606     Lerg     PROD      1\n",
       "0          02  GPE_LOC      1\n",
       "\n",
       "[3636 rows x 3 columns]"
      ]
     },
     "execution_count": 33,
     "metadata": {},
     "output_type": "execute_result"
    }
   ],
   "source": [
    "hoel_ner[0]"
   ]
  }
 ],
 "metadata": {
  "kernelspec": {
   "display_name": "Python 3 (ipykernel)",
   "language": "python",
   "name": "python3"
  },
  "language_info": {
   "codemirror_mode": {
    "name": "ipython",
    "version": 3
   },
   "file_extension": ".py",
   "mimetype": "text/x-python",
   "name": "python",
   "nbconvert_exporter": "python",
   "pygments_lexer": "ipython3",
   "version": "3.9.15"
  }
 },
 "nbformat": 4,
 "nbformat_minor": 5
}
